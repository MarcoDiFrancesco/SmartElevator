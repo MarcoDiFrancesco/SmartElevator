{
 "cells": [
  {
   "cell_type": "code",
   "execution_count": null,
   "id": "4b934a98-234d-4df0-a88d-91887e74b612",
   "metadata": {},
   "outputs": [],
   "source": [
    "# import numpy as np\n",
    "# import matplotlib.pyplot as plt\n",
    "# import seaborn as sns\n",
    "# from matplotlib.colors import ListedColormap\n",
    "# from sklearn import neighbors, datasets\n",
    "\n",
    "# n_neighbors = 15\n",
    "\n",
    "# # import some data to play with\n",
    "# iris = datasets.load_iris()\n",
    "\n",
    "# # we only take the first two features. We could avoid this ugly\n",
    "# # slicing by using a two-dim dataset\n",
    "# X = iris.data[:, :2]\n",
    "# y = iris.target\n",
    "\n",
    "# h = 0.02  # step size in the mesh\n",
    "\n",
    "# # Create color maps\n",
    "# cmap_light = ListedColormap([\"orange\", \"cyan\", \"cornflowerblue\"])\n",
    "# cmap_bold = [\"darkorange\", \"c\", \"darkblue\"]\n",
    "\n",
    "# for weights in [\"uniform\", \"distance\"]:\n",
    "#     # we create an instance of Neighbours Classifier and fit the data.\n",
    "#     clf = neighbors.KNeighborsClassifier(n_neighbors, weights=weights)\n",
    "#     clf.fit(X, y)\n",
    "\n",
    "#     # Plot the decision boundary. For that, we will assign a color to each\n",
    "#     # point in the mesh [x_min, x_max]x[y_min, y_max].\n",
    "#     x_min, x_max = X[:, 0].min() - 1, X[:, 0].max() + 1\n",
    "#     y_min, y_max = X[:, 1].min() - 1, X[:, 1].max() + 1\n",
    "#     xx, yy = np.meshgrid(np.arange(x_min, x_max, h), np.arange(y_min, y_max, h))\n",
    "#     Z = clf.predict(np.c_[xx.ravel(), yy.ravel()])\n",
    "\n",
    "#     # Put the result into a color plot\n",
    "#     Z = Z.reshape(xx.shape)\n",
    "#     plt.figure(figsize=(8, 6))\n",
    "#     plt.contourf(xx, yy, Z, cmap=cmap_light)\n",
    "\n",
    "#     # Plot also the training points\n",
    "#     sns.scatterplot(\n",
    "#         x=X[:, 0],\n",
    "#         y=X[:, 1],\n",
    "#         hue=iris.target_names[y],\n",
    "#         palette=cmap_bold,\n",
    "#         alpha=1.0,\n",
    "#         edgecolor=\"black\",\n",
    "#     )\n",
    "#     plt.xlim(xx.min(), xx.max())\n",
    "#     plt.ylim(yy.min(), yy.max())\n",
    "#     plt.title(\n",
    "#         \"3-Class classification (k = %i, weights = '%s')\" % (n_neighbors, weights)\n",
    "#     )\n",
    "#     plt.xlabel(iris.feature_names[0])\n",
    "#     plt.ylabel(iris.feature_names[1])\n",
    "\n",
    "# plt.show()"
   ]
  },
  {
   "cell_type": "code",
   "execution_count": null,
   "id": "a2b398cd-6028-4d02-afa6-fd33b5b01a6a",
   "metadata": {},
   "outputs": [],
   "source": [
    ">>> from sklearn import svm\n",
    "\n",
    "X = [[0], [1], [2], [3]]\n",
    "Y = [0, 1, 2, 3]\n",
    "clf = svm.SVC(decision_function_shape='ovo')\n",
    "clf.fit(X, Y)\n",
    "dec = clf.decision_function([[1]])\n",
    "dec.shape # 4 classes: 4*3/2 = 6"
   ]
  },
  {
   "cell_type": "code",
   "execution_count": null,
   "id": "74e5d257-d8e4-47d3-8180-0e84c4527003",
   "metadata": {},
   "outputs": [],
   "source": [
    "clf.decision_function_shape = \"ovr\"\n",
    "dec = clf.decision_function([[1]])\n",
    "dec.shape # 4 classes\n"
   ]
  }
 ],
 "metadata": {
  "kernelspec": {
   "display_name": "Python 3 (ipykernel)",
   "language": "python",
   "name": "python3"
  },
  "language_info": {
   "codemirror_mode": {
    "name": "ipython",
    "version": 3
   },
   "file_extension": ".py",
   "mimetype": "text/x-python",
   "name": "python",
   "nbconvert_exporter": "python",
   "pygments_lexer": "ipython3",
   "version": "3.9.7"
  }
 },
 "nbformat": 4,
 "nbformat_minor": 5
}
