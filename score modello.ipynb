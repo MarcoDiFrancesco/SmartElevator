{
 "cells": [
  {
   "cell_type": "code",
   "execution_count": 1,
   "metadata": {
    "colab": {
     "base_uri": "https://localhost:8080/",
     "height": 450
    },
    "id": "qSIKKIVFgSaG",
    "outputId": "2b82a8b6-cbe3-46f3-a99c-ce360d8047b8"
   },
   "outputs": [
    {
     "name": "stdout",
     "output_type": "stream",
     "text": [
      "created agent knn role std\n",
      "created dataset of agent knn role std\n",
      "created agent logistic role std\n",
      "created dataset of agent logistic role std\n",
      "created agent lda role std\n",
      "created dataset of agent lda role std\n",
      "created agent RandomForestClassifier Variation role ensemble\n"
     ]
    }
   ],
   "source": [
    "import warnings\n",
    "warnings.filterwarnings('ignore')\n",
    "import time\n",
    "import ensemble_agent_var\n",
    "from tqdm.auto import tqdm"
   ]
  },
  {
   "cell_type": "code",
   "execution_count": 2,
   "metadata": {
    "colab": {
     "base_uri": "https://localhost:8080/",
     "height": 235
    },
    "id": "troj_C3igtFf",
    "outputId": "2056af4a-5d5d-4a25-9422-e2539e21770b"
   },
   "outputs": [],
   "source": [
    "agent1=ensemble_agent_var.ensemble\n",
    "\n",
    "#queste liste contengono i valori della metrica f1+confidenza per tutti gli agenti operativi multilabel a ogni iterazione\n",
    "knn_agent_values=[]\n",
    "logistic_agent_values=[]\n",
    "lda_agent_values=[]\n",
    "#queste liste contengono i valori della metrica f1+confidenza per tutti gli agenti operativi multilclasse(magnete) a ogni iterazione\n",
    "# knnRUL_agent_values=[]\n",
    "# svmRUL_agent_values=[]\n",
    "# ridgeRUL_agent_values=[]"
   ]
  },
  {
   "cell_type": "code",
   "execution_count": null,
   "metadata": {
    "colab": {
     "base_uri": "https://localhost:8080/",
     "height": 235
    },
    "id": "troj_C3igtFf",
    "outputId": "2056af4a-5d5d-4a25-9422-e2539e21770b"
   },
   "outputs": [
    {
     "data": {
      "application/vnd.jupyter.widget-view+json": {
       "model_id": "da274d935c414b6882c76d10b94738c6",
       "version_major": 2,
       "version_minor": 0
      },
      "text/plain": [
       "  0%|          | 0/4 [00:00<?, ?it/s]"
      ]
     },
     "metadata": {},
     "output_type": "display_data"
    },
    {
     "name": "stdout",
     "output_type": "stream",
     "text": [
      "prediction done knn role std epoch 2\n",
      "prediction done logistic role std epoch 2\n",
      "prediction done lda role std epoch 2\n",
      "prediction done RandomForestClassifier Variation role ensemble epoch 2\n",
      "[1.1130234167868371] [1.499933253237218] [1.474150581011739]\n",
      "TIME: 178.5830843448639\n"
     ]
    }
   ],
   "source": [
    "for i in tqdm(range(4)):\n",
    "    start = time.time()\n",
    "    agent1.operative_cycle()\n",
    "    #salvo i vatqdmri di metrica aumentata degli altri agenti operativi\n",
    "    knn_agent_values.append(agent1.model_list[0].accuracy) # total_score\n",
    "    logistic_agent_values.append(agent1.model_list[1].accuracy)\n",
    "    lda_agent_values.append(agent1.model_list[2].accuracy)\n",
    "\n",
    "    # svmRUL_agent_values.append(agent1.rul_model_list[0].accuracy)\n",
    "    # knnRUL_agent_values.append(agent1.rul_model_list[0].accuracy)\n",
    "    # ridgeRUL_agent_values.append(agent1.rul_model_list[1].accuracy)\n",
    "    print(\n",
    "        knn_agent_values,\n",
    "        logistic_agent_values,\n",
    "        lda_agent_values,\n",
    "        # svmRUL_agent_values,\n",
    "        # ridgeRUL_agent_values,\n",
    "    )\n",
    "    print(\"TIME:\", time.time() - start)"
   ]
  },
  {
   "cell_type": "code",
   "execution_count": null,
   "metadata": {},
   "outputs": [],
   "source": [
    "from matplotlib import pyplot as plt\n",
    "plt.plot(svm_agent_values, label=\"svm_agent_values\")\n",
    "plt.plot(knn_agent_values, label=\"knn_agent_values\")\n",
    "plt.plot(lda_agent_values, label=\"lda_agent_values\")\n",
    "plt.plot(logistic_agent_values, label=\"logistic_agent_values\")\n",
    "plt.plot(knnRUL_agent_values, label=\"knnRUL_agent_values\")\n",
    "plt.plot(svmRUL_agent_values, label=\"svmRUL_agent_values\")\n",
    "plt.plot(svmRUL_agent_values, label=\"ridgeRUL_agent_values\")\n",
    "\n",
    "plt.legend()\n",
    "plt.show()"
   ]
  }
 ],
 "metadata": {
  "colab": {
   "authorship_tag": "ABX9TyPV0Exjg9cC1Z9npA3wV3Wl",
   "include_colab_link": true,
   "name": "Untitled3.ipynb",
   "provenance": []
  },
  "kernelspec": {
   "display_name": "Python 3 (ipykernel)",
   "language": "python",
   "name": "python3"
  },
  "language_info": {
   "codemirror_mode": {
    "name": "ipython",
    "version": 3
   },
   "file_extension": ".py",
   "mimetype": "text/x-python",
   "name": "python",
   "nbconvert_exporter": "python",
   "pygments_lexer": "ipython3",
   "version": "3.9.9"
  }
 },
 "nbformat": 4,
 "nbformat_minor": 4
}
