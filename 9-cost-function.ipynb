{
 "cells": [
  {
   "cell_type": "markdown",
   "metadata": {},
   "source": [
    "# Cost function training"
   ]
  },
  {
   "cell_type": "code",
   "execution_count": null,
   "metadata": {},
   "outputs": [],
   "source": [
    "cd src"
   ]
  },
  {
   "cell_type": "markdown",
   "metadata": {
    "id": "A7TL3loT7dbT"
   },
   "source": [
    "**Testing cost function**"
   ]
  },
  {
   "cell_type": "code",
   "execution_count": 2,
   "metadata": {
    "colab": {
     "base_uri": "https://localhost:8080/"
    },
    "id": "qSIKKIVFgSaG",
    "outputId": "dc86d8cc-ea06-4993-b747-5560804e3347"
   },
   "outputs": [
    {
     "name": "stdout",
     "output_type": "stream",
     "text": [
      "created agent logistic role std\n",
      "created dataset of agent logistic role std\n",
      "created agent ridge role magnet\n",
      "created dataset of agent ridge role magnet\n",
      "created agent RandomForestClassifier Variation role ensemble\n"
     ]
    }
   ],
   "source": [
    "import ensemble_agent_var #ensemble agent call"
   ]
  },
  {
   "cell_type": "markdown",
   "metadata": {
    "id": "kcZUyKLI8-sG"
   },
   "source": [
    "**TESTING ENSEMBLE WITH AND WITHOUT COST FUNCTION WITH HALF DATASET**"
   ]
  },
  {
   "cell_type": "code",
   "execution_count": 6,
   "metadata": {
    "colab": {
     "base_uri": "https://localhost:8080/"
    },
    "id": "troj_C3igtFf",
    "outputId": "73359495-7043-4060-fec6-f2d131da1b30"
   },
   "outputs": [
    {
     "name": "stdout",
     "output_type": "stream",
     "text": [
      "created agent logistic role std\n",
      "created dataset of agent logistic role std\n",
      "created agent ridge role magnet\n",
      "created dataset of agent ridge role magnet\n",
      "created agent RandomForestClassifier Variation role ensemble\n",
      "created agent logistic role std\n",
      "created dataset of agent logistic role std\n",
      "created agent ridge role magnet\n",
      "created dataset of agent ridge role magnet\n",
      "created agent RandomForestClassifier role ensemble\n",
      "prediction done logistic role std epoch 2\n",
      "prediction done ridge role magnet epoch 2\n",
      "prediction done RandomForestClassifier Variation role ensemble epoch 2\n",
      "prediction done logistic role std epoch 3\n",
      "prediction done ridge role magnet epoch 3\n",
      "prediction done RandomForestClassifier Variation role ensemble epoch 3\n",
      "[3439.795918367347]\n",
      "prediction done logistic role std epoch 2\n",
      "prediction done ridge role magnet epoch 2\n",
      "prediction done RandomForestClassifier role ensemble epoch 2\n",
      "prediction done logistic role std epoch 3\n",
      "prediction done ridge role magnet epoch 3\n",
      "prediction done RandomForestClassifier role ensemble epoch 3\n",
      "[3214.795918367347]\n",
      "created agent logistic role std\n",
      "created dataset of agent logistic role std\n",
      "created agent ridge role magnet\n",
      "created dataset of agent ridge role magnet\n",
      "created agent RandomForestClassifier Variation role ensemble\n",
      "created agent logistic role std\n",
      "created dataset of agent logistic role std\n",
      "created agent ridge role magnet\n",
      "created dataset of agent ridge role magnet\n",
      "created agent RandomForestClassifier role ensemble\n",
      "prediction done logistic role std epoch 2\n",
      "prediction done ridge role magnet epoch 2\n",
      "prediction done RandomForestClassifier Variation role ensemble epoch 2\n",
      "prediction done logistic role std epoch 3\n",
      "prediction done ridge role magnet epoch 3\n",
      "prediction done RandomForestClassifier Variation role ensemble epoch 3\n",
      "[3439.795918367347, 3439.795918367347]\n",
      "prediction done logistic role std epoch 2\n",
      "prediction done ridge role magnet epoch 2\n",
      "prediction done RandomForestClassifier role ensemble epoch 2\n",
      "prediction done logistic role std epoch 3\n",
      "prediction done ridge role magnet epoch 3\n",
      "prediction done RandomForestClassifier role ensemble epoch 3\n",
      "[3214.795918367347, 3439.795918367347]\n",
      "created agent logistic role std\n",
      "created dataset of agent logistic role std\n",
      "created agent ridge role magnet\n",
      "created dataset of agent ridge role magnet\n",
      "created agent RandomForestClassifier Variation role ensemble\n",
      "created agent logistic role std\n",
      "created dataset of agent logistic role std\n",
      "created agent ridge role magnet\n",
      "created dataset of agent ridge role magnet\n",
      "created agent RandomForestClassifier role ensemble\n",
      "prediction done logistic role std epoch 2\n",
      "prediction done ridge role magnet epoch 2\n",
      "prediction done RandomForestClassifier Variation role ensemble epoch 2\n",
      "prediction done logistic role std epoch 3\n",
      "prediction done ridge role magnet epoch 3\n",
      "prediction done RandomForestClassifier Variation role ensemble epoch 3\n",
      "[3439.795918367347, 3439.795918367347, 3439.795918367347]\n",
      "prediction done logistic role std epoch 2\n",
      "prediction done ridge role magnet epoch 2\n",
      "prediction done RandomForestClassifier role ensemble epoch 2\n",
      "prediction done logistic role std epoch 3\n",
      "prediction done ridge role magnet epoch 3\n",
      "prediction done RandomForestClassifier role ensemble epoch 3\n",
      "[3214.795918367347, 3439.795918367347, 3214.795918367347]\n",
      "created agent logistic role std\n",
      "created dataset of agent logistic role std\n",
      "created agent ridge role magnet\n",
      "created dataset of agent ridge role magnet\n",
      "created agent RandomForestClassifier Variation role ensemble\n",
      "created agent logistic role std\n",
      "created dataset of agent logistic role std\n",
      "created agent ridge role magnet\n",
      "created dataset of agent ridge role magnet\n",
      "created agent RandomForestClassifier role ensemble\n",
      "prediction done logistic role std epoch 2\n",
      "prediction done ridge role magnet epoch 2\n",
      "prediction done RandomForestClassifier Variation role ensemble epoch 2\n",
      "prediction done logistic role std epoch 3\n",
      "prediction done ridge role magnet epoch 3\n",
      "prediction done RandomForestClassifier Variation role ensemble epoch 3\n",
      "[3439.795918367347, 3439.795918367347, 3439.795918367347, 3285.714285714286]\n",
      "prediction done logistic role std epoch 2\n",
      "prediction done ridge role magnet epoch 2\n",
      "prediction done RandomForestClassifier role ensemble epoch 2\n",
      "prediction done logistic role std epoch 3\n",
      "prediction done ridge role magnet epoch 3\n",
      "prediction done RandomForestClassifier role ensemble epoch 3\n",
      "[3214.795918367347, 3439.795918367347, 3214.795918367347, 3439.795918367347]\n",
      "created agent logistic role std\n",
      "created dataset of agent logistic role std\n",
      "created agent ridge role magnet\n",
      "created dataset of agent ridge role magnet\n",
      "created agent RandomForestClassifier Variation role ensemble\n",
      "created agent logistic role std\n",
      "created dataset of agent logistic role std\n",
      "created agent ridge role magnet\n",
      "created dataset of agent ridge role magnet\n",
      "created agent RandomForestClassifier role ensemble\n",
      "prediction done logistic role std epoch 2\n",
      "prediction done ridge role magnet epoch 2\n",
      "prediction done RandomForestClassifier Variation role ensemble epoch 2\n",
      "prediction done logistic role std epoch 3\n",
      "prediction done ridge role magnet epoch 3\n",
      "prediction done RandomForestClassifier Variation role ensemble epoch 3\n",
      "[3439.795918367347, 3439.795918367347, 3439.795918367347, 3285.714285714286, 3214.795918367347]\n",
      "prediction done logistic role std epoch 2\n",
      "prediction done ridge role magnet epoch 2\n",
      "prediction done RandomForestClassifier role ensemble epoch 2\n",
      "prediction done logistic role std epoch 3\n",
      "prediction done ridge role magnet epoch 3\n",
      "prediction done RandomForestClassifier role ensemble epoch 3\n",
      "[3214.795918367347, 3439.795918367347, 3214.795918367347, 3439.795918367347, 3285.714285714286]\n",
      "created agent logistic role std\n",
      "created dataset of agent logistic role std\n",
      "created agent ridge role magnet\n",
      "created dataset of agent ridge role magnet\n",
      "created agent RandomForestClassifier Variation role ensemble\n",
      "created agent logistic role std\n",
      "created dataset of agent logistic role std\n",
      "created agent ridge role magnet\n",
      "created dataset of agent ridge role magnet\n",
      "created agent RandomForestClassifier role ensemble\n",
      "prediction done logistic role std epoch 2\n",
      "prediction done ridge role magnet epoch 2\n",
      "prediction done RandomForestClassifier Variation role ensemble epoch 2\n",
      "prediction done logistic role std epoch 3\n",
      "prediction done ridge role magnet epoch 3\n",
      "prediction done RandomForestClassifier Variation role ensemble epoch 3\n",
      "[3439.795918367347, 3439.795918367347, 3439.795918367347, 3285.714285714286, 3214.795918367347, 3439.795918367347]\n",
      "prediction done logistic role std epoch 2\n",
      "prediction done ridge role magnet epoch 2\n",
      "prediction done RandomForestClassifier role ensemble epoch 2\n",
      "prediction done logistic role std epoch 3\n",
      "prediction done ridge role magnet epoch 3\n",
      "prediction done RandomForestClassifier role ensemble epoch 3\n",
      "[3214.795918367347, 3439.795918367347, 3214.795918367347, 3439.795918367347, 3285.714285714286, 3362.7551020408164]\n",
      "created agent logistic role std\n",
      "created dataset of agent logistic role std\n",
      "created agent ridge role magnet\n",
      "created dataset of agent ridge role magnet\n",
      "created agent RandomForestClassifier Variation role ensemble\n",
      "created agent logistic role std\n",
      "created dataset of agent logistic role std\n",
      "created agent ridge role magnet\n",
      "created dataset of agent ridge role magnet\n",
      "created agent RandomForestClassifier role ensemble\n"
     ]
    }
   ],
   "source": [
    "agent1_values=[]\n",
    "agent2_values=[]\n",
    "agent1=ensemble_agent_var.ensemble_agent_model()\n",
    "agent2=ensemble_agent_var.ensemble_agent_model(model=\"RandomForest\")\n",
    "for i in range(6):#testing repeated six time \n",
    "    agent1.operative_cycle()\n",
    "    agent1.operative_cycle()\n",
    "    agent1_values.append(agent1.savings)\n",
    "    print(agent1_values)\n",
    "    agent2.operative_cycle()\n",
    "    agent2.operative_cycle()\n",
    "    agent2_values.append(agent2.savings)\n",
    "    print(agent2_values)\n",
    "    agent1=ensemble_agent_var.ensemble_agent_model()\n",
    "    agent2=ensemble_agent_var.ensemble_agent_model(model=\"RandomForest\")\n"
   ]
  },
  {
   "cell_type": "code",
   "execution_count": 8,
   "metadata": {
    "colab": {
     "base_uri": "https://localhost:8080/",
     "height": 267
    },
    "id": "nTCJSPtfSE3t",
    "outputId": "809b9f31-e620-4882-dc0c-2efa591b268d"
   },
   "outputs": [
    {
     "data": {
      "image/png": "[encoded data removed]",
      "text/plain": [
       "<Figure size 432x288 with 1 Axes>"
      ]
     },
     "metadata": {
      "needs_background": "light"
     },
     "output_type": "display_data"
    }
   ],
   "source": [
    "from matplotlib import pyplot as plt\n",
    "plt.plot(agent1_values, label=\"new cost model\")\n",
    "plt.plot(agent2_values, label=\"old standard forest\")\n",
    "\n",
    "\n",
    "plt.legend()\n",
    "plt.show()"
   ]
  },
  {
   "cell_type": "code",
   "execution_count": null,
   "metadata": {
    "id": "mOFpiVFqY5xw"
   },
   "outputs": [],
   "source": []
  },
  {
   "cell_type": "markdown",
   "metadata": {
    "id": "GeWMHbzH9S4g"
   },
   "source": [
    "**TESTING WITH INCREASING DATASET THE COST FUNCTION AND STANDARD IMPLEMENTATION THRICE**"
   ]
  },
  {
   "cell_type": "markdown",
   "metadata": {
    "id": "oMnp3hjl9S21"
   },
   "source": []
  },
  {
   "cell_type": "code",
   "execution_count": 9,
   "metadata": {
    "colab": {
     "base_uri": "https://localhost:8080/"
    },
    "id": "NVDdcHssS9SX",
    "outputId": "c522ad49-e5e7-4e57-f740-d51d46c13266"
   },
   "outputs": [
    {
     "name": "stdout",
     "output_type": "stream",
     "text": [
      "created agent logistic role std\n",
      "created dataset of agent logistic role std\n",
      "created agent ridge role magnet\n",
      "created dataset of agent ridge role magnet\n",
      "created agent RandomForestClassifier Variation role ensemble\n",
      "created agent logistic role std\n",
      "created dataset of agent logistic role std\n",
      "created agent ridge role magnet\n",
      "created dataset of agent ridge role magnet\n",
      "created agent RandomForestClassifier role ensemble\n",
      "prediction done logistic role std epoch 2\n",
      "prediction done ridge role magnet epoch 2\n",
      "prediction done RandomForestClassifier Variation role ensemble epoch 2\n",
      "[0]\n",
      "prediction done logistic role std epoch 2\n",
      "prediction done ridge role magnet epoch 2\n",
      "prediction done RandomForestClassifier role ensemble epoch 2\n",
      "[0]\n",
      "prediction done logistic role std epoch 3\n",
      "prediction done ridge role magnet epoch 3\n",
      "prediction done RandomForestClassifier Variation role ensemble epoch 3\n",
      "[0, 3439.795918367347]\n",
      "prediction done logistic role std epoch 3\n",
      "prediction done ridge role magnet epoch 3\n",
      "prediction done RandomForestClassifier role ensemble epoch 3\n",
      "[0, 3362.7551020408164]\n",
      "prediction done logistic role std epoch 4\n",
      "prediction done ridge role magnet epoch 4\n",
      "prediction done RandomForestClassifier Variation role ensemble epoch 4\n",
      "[0, 3439.795918367347, 6802.551020408164]\n",
      "prediction done logistic role std epoch 4\n",
      "prediction done ridge role magnet epoch 4\n",
      "prediction done RandomForestClassifier role ensemble epoch 4\n",
      "[0, 3362.7551020408164, 6494.387755102041]\n",
      "prediction done logistic role std epoch 5\n",
      "prediction done ridge role magnet epoch 5\n",
      "prediction done RandomForestClassifier Variation role ensemble epoch 5\n",
      "[0, 3439.795918367347, 6802.551020408164, 10242.34693877551]\n",
      "prediction done logistic role std epoch 5\n",
      "prediction done ridge role magnet epoch 5\n",
      "prediction done RandomForestClassifier role ensemble epoch 5\n",
      "[0, 3362.7551020408164, 6494.387755102041, 9934.183673469388]\n"
     ]
    }
   ],
   "source": [
    "agent1_values=[]\n",
    "agent2_values=[]\n",
    "agent1=ensemble_agent_var.ensemble_agent_model()\n",
    "agent2=ensemble_agent_var.ensemble_agent_model(model=\"RandomForest\")\n",
    "for i in range(4):\n",
    "    agent1.operative_cycle()\n",
    "    agent1_values.append(agent1.savings)\n",
    "    print(agent1_values)\n",
    "    agent2.operative_cycle()\n",
    "    agent2_values.append(agent2.savings)\n",
    "    print(agent2_values)\n",
    " "
   ]
  },
  {
   "cell_type": "code",
   "execution_count": 10,
   "metadata": {
    "colab": {
     "base_uri": "https://localhost:8080/",
     "height": 265
    },
    "id": "6Uhik-y-Y6qS",
    "outputId": "b7bf26ef-56c9-4e19-bdad-59527416927b"
   },
   "outputs": [
    {
     "data": {
      "image/png": "[encoded data removed]",
      "text/plain": [
       "<Figure size 432x288 with 1 Axes>"
      ]
     },
     "metadata": {
      "needs_background": "light"
     },
     "output_type": "display_data"
    }
   ],
   "source": [
    "from matplotlib import pyplot as plt\n",
    "plt.plot(agent1_values, label=\"new cost model\")\n",
    "plt.plot(agent2_values, label=\"old standard forest\")\n",
    "plt.legend()\n",
    "plt.show()"
   ]
  },
  {
   "cell_type": "code",
   "execution_count": 11,
   "metadata": {
    "colab": {
     "base_uri": "https://localhost:8080/",
     "height": 994
    },
    "id": "1dHGDIQtat9S",
    "outputId": "9ce05122-4e93-420e-9e2f-1544ed9a74fc"
   },
   "outputs": [
    {
     "name": "stdout",
     "output_type": "stream",
     "text": [
      "created agent logistic role std\n",
      "created dataset of agent logistic role std\n",
      "created agent ridge role magnet\n",
      "created dataset of agent ridge role magnet\n",
      "created agent RandomForestClassifier Variation role ensemble\n",
      "created agent logistic role std\n",
      "created dataset of agent logistic role std\n",
      "created agent ridge role magnet\n",
      "created dataset of agent ridge role magnet\n",
      "created agent RandomForestClassifier role ensemble\n",
      "prediction done logistic role std epoch 2\n",
      "prediction done ridge role magnet epoch 2\n",
      "prediction done RandomForestClassifier Variation role ensemble epoch 2\n",
      "[0]\n",
      "prediction done logistic role std epoch 2\n",
      "prediction done ridge role magnet epoch 2\n",
      "prediction done RandomForestClassifier role ensemble epoch 2\n",
      "[0]\n",
      "prediction done logistic role std epoch 3\n",
      "prediction done ridge role magnet epoch 3\n",
      "prediction done RandomForestClassifier Variation role ensemble epoch 3\n",
      "[0, 3287.7551020408164]\n",
      "prediction done logistic role std epoch 3\n",
      "prediction done ridge role magnet epoch 3\n",
      "prediction done RandomForestClassifier role ensemble epoch 3\n",
      "[0, 3285.714285714286]\n",
      "prediction done logistic role std epoch 4\n",
      "prediction done ridge role magnet epoch 4\n",
      "prediction done RandomForestClassifier Variation role ensemble epoch 4\n",
      "[0, 3287.7551020408164, 6650.510204081633]\n",
      "prediction done logistic role std epoch 4\n",
      "prediction done ridge role magnet epoch 4\n",
      "prediction done RandomForestClassifier role ensemble epoch 4\n",
      "[0, 3285.714285714286, 6571.428571428572]\n",
      "prediction done logistic role std epoch 5\n",
      "prediction done ridge role magnet epoch 5\n",
      "prediction done RandomForestClassifier Variation role ensemble epoch 5\n",
      "[0, 3287.7551020408164, 6650.510204081633, 10013.265306122448]\n",
      "prediction done logistic role std epoch 5\n",
      "prediction done ridge role magnet epoch 5\n",
      "prediction done RandomForestClassifier role ensemble epoch 5\n",
      "[0, 3285.714285714286, 6571.428571428572, 10011.224489795919]\n"
     ]
    },
    {
     "data": {
      "image/png": "[encoded data removed]",
      "text/plain": [
       "<Figure size 432x288 with 1 Axes>"
      ]
     },
     "metadata": {
      "needs_background": "light"
     },
     "output_type": "display_data"
    }
   ],
   "source": [
    "agent1_values=[]\n",
    "agent2_values=[]\n",
    "agent1=ensemble_agent_var.ensemble_agent_model()\n",
    "agent2=ensemble_agent_var.ensemble_agent_model(model=\"RandomForest\")\n",
    "for i in range(4):\n",
    "    agent1.operative_cycle()\n",
    "    agent1_values.append(agent1.savings)\n",
    "    print(agent1_values)\n",
    "    agent2.operative_cycle()\n",
    "    agent2_values.append(agent2.savings)\n",
    "    print(agent2_values)\n",
    "from matplotlib import pyplot as plt\n",
    "plt.plot(agent1_values, label=\"new cost model\")\n",
    "plt.plot(agent2_values, label=\"old standard forest\")\n",
    "plt.legend()\n",
    "plt.show()\n",
    " "
   ]
  },
  {
   "cell_type": "code",
   "execution_count": 12,
   "metadata": {
    "colab": {
     "base_uri": "https://localhost:8080/",
     "height": 994
    },
    "id": "bWe5ZcQQZFrT",
    "outputId": "0217ffcd-f736-46f5-949e-e305c1c446c1"
   },
   "outputs": [
    {
     "name": "stdout",
     "output_type": "stream",
     "text": [
      "created agent logistic role std\n",
      "created dataset of agent logistic role std\n",
      "created agent ridge role magnet\n",
      "created dataset of agent ridge role magnet\n",
      "created agent RandomForestClassifier Variation role ensemble\n",
      "created agent logistic role std\n",
      "created dataset of agent logistic role std\n",
      "created agent ridge role magnet\n",
      "created dataset of agent ridge role magnet\n",
      "created agent RandomForestClassifier role ensemble\n",
      "prediction done logistic role std epoch 2\n",
      "prediction done ridge role magnet epoch 2\n",
      "prediction done RandomForestClassifier Variation role ensemble epoch 2\n",
      "[0]\n",
      "prediction done logistic role std epoch 2\n",
      "prediction done ridge role magnet epoch 2\n",
      "prediction done RandomForestClassifier role ensemble epoch 2\n",
      "[0]\n",
      "prediction done logistic role std epoch 3\n",
      "prediction done ridge role magnet epoch 3\n",
      "prediction done RandomForestClassifier Variation role ensemble epoch 3\n",
      "[0, 3439.795918367347]\n",
      "prediction done logistic role std epoch 3\n",
      "prediction done ridge role magnet epoch 3\n",
      "prediction done RandomForestClassifier role ensemble epoch 3\n",
      "[0, 3439.795918367347]\n",
      "prediction done logistic role std epoch 4\n",
      "prediction done ridge role magnet epoch 4\n",
      "prediction done RandomForestClassifier Variation role ensemble epoch 4\n",
      "[0, 3439.795918367347, 6802.551020408164]\n",
      "prediction done logistic role std epoch 4\n",
      "prediction done ridge role magnet epoch 4\n",
      "prediction done RandomForestClassifier role ensemble epoch 4\n",
      "[0, 3439.795918367347, 6802.551020408164]\n",
      "prediction done logistic role std epoch 5\n",
      "prediction done ridge role magnet epoch 5\n",
      "prediction done RandomForestClassifier Variation role ensemble epoch 5\n",
      "[0, 3439.795918367347, 6802.551020408164, 10242.34693877551]\n",
      "prediction done logistic role std epoch 5\n",
      "prediction done ridge role magnet epoch 5\n",
      "prediction done RandomForestClassifier role ensemble epoch 5\n",
      "[0, 3439.795918367347, 6802.551020408164, 10242.34693877551]\n"
     ]
    },
    {
     "data": {
      "image/png": "[encoded data removed]",
      "text/plain": [
       "<Figure size 432x288 with 1 Axes>"
      ]
     },
     "metadata": {
      "needs_background": "light"
     },
     "output_type": "display_data"
    }
   ],
   "source": [
    "agent1_values=[]\n",
    "agent2_values=[]\n",
    "agent1=ensemble_agent_var.ensemble_agent_model()\n",
    "agent2=ensemble_agent_var.ensemble_agent_model(model=\"RandomForest\")\n",
    "for i in range(4):\n",
    "    agent1.operative_cycle()\n",
    "    agent1_values.append(agent1.savings)\n",
    "    print(agent1_values)\n",
    "    agent2.operative_cycle()\n",
    "    agent2_values.append(agent2.savings)\n",
    "    print(agent2_values)\n",
    "from matplotlib import pyplot as plt\n",
    "plt.plot(agent1_values, label=\"new cost model\")\n",
    "plt.plot(agent2_values, label=\"old standard forest\")\n",
    "plt.legend()\n",
    "plt.show()\n"
   ]
  },
  {
   "cell_type": "code",
   "execution_count": null,
   "metadata": {
    "id": "ruP3d4TjZCr_"
   },
   "outputs": [],
   "source": [
    "from matplotlib import pyplot as plt\n",
    "plt.plot(svm_agent_values, label=\"svm_agent_values\")\n",
    "plt.plot(knn_agent_values, label=\"knn_agent_values\")\n",
    "plt.plot(lda_agent_values, label=\"lda_agent_values\")\n",
    "plt.plot(logistic_agent_values, label=\"logistic_agent_values\")\n",
    "plt.plot(knnRUL_agent_values, label=\"knnRUL_agent_values\")\n",
    "plt.plot(svmRUL_agent_values, label=\"svmRUL_agent_values\")\n",
    "plt.plot(svmRUL_agent_values, label=\"ridgeRUL_agent_values\")\n",
    "\n",
    "plt.legend()\n",
    "plt.show()"
   ]
  }
 ],
 "metadata": {
  "colab": {
   "name": "Untitled3.ipynb",
   "provenance": []
  },
  "kernelspec": {
   "display_name": "Python 3 (ipykernel)",
   "language": "python",
   "name": "python3"
  },
  "language_info": {
   "codemirror_mode": {
    "name": "ipython",
    "version": 3
   },
   "file_extension": ".py",
   "mimetype": "text/x-python",
   "name": "python",
   "nbconvert_exporter": "python",
   "pygments_lexer": "ipython3",
   "version": "3.9.9"
  }
 },
 "nbformat": 4,
 "nbformat_minor": 4
}
