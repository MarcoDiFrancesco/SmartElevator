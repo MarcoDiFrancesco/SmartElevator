{
 "cells": [
  {
   "cell_type": "markdown",
   "id": "90a1a6f7",
   "metadata": {},
   "source": [
    "# Data analysis"
   ]
  },
  {
   "cell_type": "code",
   "execution_count": null,
   "id": "bc9eff4c",
   "metadata": {},
   "outputs": [],
   "source": [
    "from selenium import webdriver\n",
    "from selenium.webdriver.common.keys import Keys\n",
    "from webdriver_manager.chrome import ChromeDriverManager\n",
    "from urllib.parse import urlparse\n",
    "import urllib\n",
    "import json\n",
    "import pandas as pd\n",
    "import os\n",
    "\n",
    "driver = webdriver.Chrome(ChromeDriverManager().install())"
   ]
  },
  {
   "cell_type": "code",
   "execution_count": null,
   "id": "eb0985f9",
   "metadata": {},
   "outputs": [],
   "source": [
    "driver.get(\"https://sarc.asystom.com/monitor/login\")\n",
    "\n",
    "elem = driver.find_element_by_name(\"user\")\n",
    "elem.clear()\n",
    "elem.send_keys(os.environ[\"SITE_USER\"])\n",
    "\n",
    "elem = driver.find_element_by_name(\"password\")\n",
    "elem.clear()\n",
    "elem.send_keys(os.environ[\"SITE_PASSWORD\"])\n",
    "\n",
    "btn = driver.find_element_by_class_name(\"css-mij01a-button\")\n",
    "btn.click()"
   ]
  },
  {
   "cell_type": "code",
   "execution_count": null,
   "id": "45980e6c",
   "metadata": {},
   "outputs": [],
   "source": [
    "def get_dfs(parsed_json):\n",
    "    dfs = []\n",
    "    # parsed_json[\"results\"][0][\"series\"][0][\"columns\"]\n",
    "    # parsed_json[\"results\"][0][\"series\"][0][\"values\"]\n",
    "\n",
    "    for result in parsed_json[\"results\"]:\n",
    "        print(\"Result\", result[\"statement_id\"])\n",
    "        for serie in result[\"series\"]:\n",
    "            df = pd.DataFrame(serie[\"values\"], columns=serie[\"columns\"])\n",
    "            df.name = serie[\"name\"]\n",
    "            dfs.append(df)\n",
    "    return dfs"
   ]
  },
  {
   "cell_type": "code",
   "execution_count": null,
   "id": "b8889b8a",
   "metadata": {},
   "outputs": [],
   "source": [
    "from urllib import parse\n",
    "q=\"SELECT%20median(%22drift%22)%20FROM%20(SELECT%2020*log10(%22vib_x_vel%22*%22vib_y_vel%22*%22vib_z_vel%22)%20AS%20%22drift%22%20FROM%20%22Signature_Drift%22%20WHERE%20%22device%22%3D%2700-04-a3-0b-00-e9-b5-05%27%20AND%20time%20%3E%3D%20now()%20-%2030d%20AND%20%22mileage%22%252%3D1)%20GROUP%20BY%20time(2h)%20fill(none)%3BSELECT%20moving_average(%22decimated%22%2C%2050)%20FROM%20(SELECT%20median(%22drift%22)%20AS%20%22decimated%22%20FROM%20(SELECT%2020*log10(%22vib_x_vel%22*%22vib_y_vel%22*%22vib_z_vel%22)%20AS%20%22drift%22%20FROM%20%22Signature_Drift%22%20WHERE%20%22device%22%3D%2700-04-a3-0b-00-e9-b5-05%27%20AND%20time%20%3E%3D%20now()%20-%2030d%20AND%20%22mileage%22%252%3D1)%20GROUP%20BY%20time(1m)%20fill(none))\"\n",
    "\n",
    "q=\"https://sarc.asystom.com/monitor/api/datasources/proxy/8/query?db=asystom_db&q=SELECT%20last(%22drift%22)%20FROM%20(SELECT%2020*log10(%22vib_x_vel%22*%22vib_y_vel%22*%22vib_z_vel%22)%20AS%20%22drift%22%20FROM%20%22Signature_Drift%22%20WHERE%20%22device%22%3D%2700-04-a3-0b-00-e9-b5-05%27%20AND%20time%20%3E%3D%20now()%20-%201d%20AND%20%22mileage%22%252%3D1)%0A&epoch=ms\"\n",
    "q_clean = parse.unquote(q)\n",
    "q_clean"
   ]
  },
  {
   "cell_type": "code",
   "execution_count": null,
   "id": "8504d9eb",
   "metadata": {},
   "outputs": [],
   "source": [
    "# SELECT vib_x_vel, vib_y_vel, vib_z_vel\n",
    "\n",
    "delay = \"200d\"\n",
    "\n",
    "q_clean = f\"\"\"\n",
    "SELECT *\n",
    "FROM \"Signature_Drift\"\n",
    "WHERE \"device\"=\\'00-04-a3-0b-00-e9-b5-05\\' AND time >= now() - {delay};\n",
    "\n",
    "SELECT *\n",
    "FROM \"Signature\"\n",
    "WHERE \"device\"=\\'00-04-a3-0b-00-e9-b5-05\\' AND time >= now() - {delay};\n",
    "\n",
    "\n",
    "SELECT *\n",
    "FROM \"Temperature\"\n",
    "WHERE \"device\"=\\'00-04-a3-0b-00-e9-b5-05\\' AND time >= now() - {delay};\n",
    "\n",
    "\n",
    "SELECT *\n",
    "FROM \"Current_Loop\"\n",
    "WHERE \"device\"=\\'00-04-a3-0b-00-e9-b5-05\\' AND time >= now() - {delay};\n",
    "\"\"\"\n",
    "\n",
    "q_econded = parse.quote(q_clean)\n",
    "url = f'https://sarc.asystom.com/monitor/api/datasources/proxy/8/query?db=asystom_db&q={q_econded}&epoch=ms'\n",
    "\n",
    "driver.get(url)\n",
    "driver.page_source\n",
    "content = driver.find_element_by_tag_name('pre').text\n",
    "parsed_json = json.loads(content)\n",
    "parsed_json\n",
    "dfs = get_dfs(parsed_json)"
   ]
  },
  {
   "cell_type": "code",
   "execution_count": null,
   "id": "39a203fc",
   "metadata": {},
   "outputs": [],
   "source": [
    "with open(\"all_data.json\", \"w\") as f:\n",
    "    json.dump(parsed_json, f)"
   ]
  },
  {
   "cell_type": "code",
   "execution_count": null,
   "id": "25fc0351",
   "metadata": {},
   "outputs": [],
   "source": [
    "print(dfs[0].name)\n",
    "dfs[0]"
   ]
  },
  {
   "cell_type": "code",
   "execution_count": null,
   "id": "3299881a",
   "metadata": {},
   "outputs": [],
   "source": [
    "print(dfs[1].name)\n",
    "dfs[1]"
   ]
  },
  {
   "cell_type": "code",
   "execution_count": null,
   "id": "fea0cdf1",
   "metadata": {},
   "outputs": [],
   "source": [
    "print(dfs[2].name)\n",
    "dfs[2]"
   ]
  },
  {
   "cell_type": "code",
   "execution_count": null,
   "id": "14674ca6",
   "metadata": {},
   "outputs": [],
   "source": [
    "print(dfs[3].name)\n",
    "dfs[3]"
   ]
  }
 ],
 "metadata": {
  "interpreter": {
   "hash": "d790a148e15a253f017f711abd442af19374b4ed938e56212be77aae3713b87a"
  },
  "kernelspec": {
   "display_name": "Python 3.9.7 64-bit ('.venv': venv)",
   "name": "python3"
  },
  "language_info": {
   "codemirror_mode": {
    "name": "ipython",
    "version": 3
   },
   "file_extension": ".py",
   "mimetype": "text/x-python",
   "name": "python",
   "nbconvert_exporter": "python",
   "pygments_lexer": "ipython3",
   "version": "3.9.7"
  }
 },
 "nbformat": 4,
 "nbformat_minor": 5
}
