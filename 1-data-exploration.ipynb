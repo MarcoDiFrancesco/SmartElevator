{
 "cells": [
  {
   "cell_type": "markdown",
   "id": "27329f34-8618-4b86-91cb-2d6353cbb18b",
   "metadata": {
    "id": "bored-payment"
   },
   "source": [
    "inspired by\n",
    "https://towardsdatascience.com/an-extensive-guide-to-exploratory-data-analysis-ddd99a03199e"
   ]
  },
  {
   "cell_type": "code",
   "execution_count": null,
   "id": "agricultural-canvas",
   "metadata": {
    "id": "agricultural-canvas"
   },
   "outputs": [],
   "source": [
    "import json"
   ]
  },
  {
   "cell_type": "code",
   "execution_count": null,
   "id": "earned-treaty",
   "metadata": {
    "id": "earned-treaty"
   },
   "outputs": [],
   "source": [
    "import pandas as pd"
   ]
  },
  {
   "cell_type": "code",
   "execution_count": null,
   "id": "hotpxbYLhW5M",
   "metadata": {
    "id": "hotpxbYLhW5M"
   },
   "outputs": [],
   "source": [
    "data_path = '28-09_22-11_alldata.json'"
   ]
  },
  {
   "cell_type": "code",
   "execution_count": null,
   "id": "gorgeous-essay",
   "metadata": {
    "id": "gorgeous-essay"
   },
   "outputs": [],
   "source": [
    "with open(data_path,'r') as j_in:\n",
    "    data = json.load(j_in)"
   ]
  },
  {
   "cell_type": "code",
   "execution_count": null,
   "id": "sporting-bible",
   "metadata": {
    "colab": {
     "base_uri": "https://localhost:8080/"
    },
    "id": "sporting-bible",
    "outputId": "f587970a-26cf-4633-9234-6b08151fc2c6"
   },
   "outputs": [],
   "source": [
    "type(data)"
   ]
  },
  {
   "cell_type": "code",
   "execution_count": null,
   "id": "driven-array",
   "metadata": {
    "id": "driven-array"
   },
   "outputs": [],
   "source": [
    "names = [data['results'][n]['series'][0]['name'] for n in range(4)]"
   ]
  },
  {
   "cell_type": "code",
   "execution_count": null,
   "id": "advised-wichita",
   "metadata": {
    "id": "advised-wichita"
   },
   "outputs": [],
   "source": [
    "cols = [data['results'][n]['series'][0]['columns'] for n in range(4)]"
   ]
  },
  {
   "cell_type": "code",
   "execution_count": null,
   "id": "buried-contribution",
   "metadata": {
    "colab": {
     "base_uri": "https://localhost:8080/"
    },
    "id": "buried-contribution",
    "outputId": "b543e902-0872-4bc0-db5e-82aca8914de3"
   },
   "outputs": [],
   "source": [
    "cols[0]==cols[1]==cols[2]==cols[3]"
   ]
  },
  {
   "cell_type": "code",
   "execution_count": null,
   "id": "numerical-kazakhstan",
   "metadata": {
    "id": "numerical-kazakhstan"
   },
   "outputs": [],
   "source": [
    "dfs = [pd.DataFrame(data['results'][i]['series'][0]['values'],columns=cols[i]) for i in range(4)]"
   ]
  },
  {
   "cell_type": "code",
   "execution_count": null,
   "id": "occupational-granny",
   "metadata": {
    "colab": {
     "base_uri": "https://localhost:8080/"
    },
    "id": "occupational-granny",
    "outputId": "d30c57d1-8114-4bb8-fa69-8940b1b65b6d"
   },
   "outputs": [],
   "source": [
    "for i in range(4): print(dfs[i].shape)"
   ]
  },
  {
   "cell_type": "code",
   "execution_count": null,
   "id": "certain-pavilion",
   "metadata": {
    "id": "certain-pavilion"
   },
   "outputs": [],
   "source": [
    "for i in range(4): dfs[i].name = names[i]"
   ]
  },
  {
   "cell_type": "code",
   "execution_count": null,
   "id": "professional-bones",
   "metadata": {
    "colab": {
     "base_uri": "https://localhost:8080/",
     "height": 1000
    },
    "id": "professional-bones",
    "outputId": "bfa66910-be36-4a70-8434-44519ea97a93"
   },
   "outputs": [],
   "source": [
    "dfs[0].describe().T"
   ]
  },
  {
   "cell_type": "code",
   "execution_count": null,
   "id": "vulnerable-emergency",
   "metadata": {
    "colab": {
     "base_uri": "https://localhost:8080/",
     "height": 1000
    },
    "id": "vulnerable-emergency",
    "outputId": "c8f25896-1804-47c8-e040-a666bff7f9be"
   },
   "outputs": [],
   "source": [
    "dfs[1].describe().T"
   ]
  },
  {
   "cell_type": "code",
   "execution_count": null,
   "id": "legitimate-procurement",
   "metadata": {
    "colab": {
     "base_uri": "https://localhost:8080/",
     "height": 295
    },
    "id": "legitimate-procurement",
    "outputId": "4422037b-3689-416c-bd69-6de9a338d847"
   },
   "outputs": [],
   "source": [
    "dfs[2].describe()"
   ]
  },
  {
   "cell_type": "code",
   "execution_count": null,
   "id": "simple-personality",
   "metadata": {
    "colab": {
     "base_uri": "https://localhost:8080/",
     "height": 295
    },
    "id": "simple-personality",
    "outputId": "b851970f-e826-47ba-9700-0a4d206e25fe"
   },
   "outputs": [],
   "source": [
    "dfs[3].describe()"
   ]
  },
  {
   "cell_type": "code",
   "execution_count": null,
   "id": "spectacular-blind",
   "metadata": {
    "colab": {
     "base_uri": "https://localhost:8080/",
     "height": 475
    },
    "id": "spectacular-blind",
    "outputId": "56a47ca9-45f0-426c-bfce-96a4d3d20cd6"
   },
   "outputs": [],
   "source": [
    "dfs[0].head()"
   ]
  },
  {
   "cell_type": "code",
   "execution_count": null,
   "id": "higher-truth",
   "metadata": {
    "colab": {
     "base_uri": "https://localhost:8080/",
     "height": 475
    },
    "id": "higher-truth",
    "outputId": "0452bbcb-9a5a-4fbf-afbe-cc244594a2cf"
   },
   "outputs": [],
   "source": [
    "dfs[1].head()"
   ]
  },
  {
   "cell_type": "code",
   "execution_count": null,
   "id": "industrial-emerald",
   "metadata": {
    "colab": {
     "base_uri": "https://localhost:8080/",
     "height": 203
    },
    "id": "industrial-emerald",
    "outputId": "9b99e4b1-078a-4730-c9fb-809511f78071"
   },
   "outputs": [],
   "source": [
    "dfs[2].head()"
   ]
  },
  {
   "cell_type": "code",
   "execution_count": null,
   "id": "finished-standard",
   "metadata": {
    "colab": {
     "base_uri": "https://localhost:8080/",
     "height": 203
    },
    "id": "finished-standard",
    "outputId": "e63908d0-6a53-449a-9930-7604f8fce7ef"
   },
   "outputs": [],
   "source": [
    "dfs[3].head()"
   ]
  },
  {
   "cell_type": "code",
   "execution_count": null,
   "id": "liquid-harvest",
   "metadata": {
    "colab": {
     "base_uri": "https://localhost:8080/"
    },
    "id": "liquid-harvest",
    "outputId": "ff6f3b36-61d9-465b-f65e-5eb162482206"
   },
   "outputs": [],
   "source": [
    "dfs[0].columns"
   ]
  },
  {
   "cell_type": "code",
   "execution_count": null,
   "id": "narrow-airport",
   "metadata": {
    "colab": {
     "base_uri": "https://localhost:8080/"
    },
    "id": "narrow-airport",
    "outputId": "73960bc2-bea7-4374-d9a8-be71a6caced5"
   },
   "outputs": [],
   "source": [
    "dfs[1].columns"
   ]
  },
  {
   "cell_type": "code",
   "execution_count": null,
   "id": "overhead-childhood",
   "metadata": {
    "colab": {
     "base_uri": "https://localhost:8080/"
    },
    "id": "overhead-childhood",
    "outputId": "53123382-9c16-45f4-de0e-af84e5d0773d"
   },
   "outputs": [],
   "source": [
    "dfs[2].columns"
   ]
  },
  {
   "cell_type": "code",
   "execution_count": null,
   "id": "similar-circular",
   "metadata": {
    "colab": {
     "base_uri": "https://localhost:8080/"
    },
    "id": "similar-circular",
    "outputId": "e2da77e0-a673-424b-8d0e-e6fe431fdb47"
   },
   "outputs": [],
   "source": [
    "dfs[3].columns"
   ]
  },
  {
   "cell_type": "code",
   "execution_count": null,
   "id": "experimental-citizen",
   "metadata": {
    "colab": {
     "base_uri": "https://localhost:8080/"
    },
    "id": "experimental-citizen",
    "outputId": "dfd19575-5481-4d16-ada0-33bbaec66657"
   },
   "outputs": [],
   "source": [
    "dfs[0].nunique()"
   ]
  },
  {
   "cell_type": "code",
   "execution_count": null,
   "id": "abroad-jordan",
   "metadata": {
    "colab": {
     "base_uri": "https://localhost:8080/"
    },
    "id": "abroad-jordan",
    "outputId": "03bbec00-919c-4f88-d535-22e8462f2b8a"
   },
   "outputs": [],
   "source": [
    "dfs[1].nunique()"
   ]
  },
  {
   "cell_type": "code",
   "execution_count": null,
   "id": "unlike-gathering",
   "metadata": {
    "colab": {
     "base_uri": "https://localhost:8080/"
    },
    "id": "unlike-gathering",
    "outputId": "1c93c76d-ef61-4a07-8cbc-9ea5ebde40be"
   },
   "outputs": [],
   "source": [
    "dfs[2].nunique()"
   ]
  },
  {
   "cell_type": "code",
   "execution_count": null,
   "id": "affiliated-trigger",
   "metadata": {
    "colab": {
     "base_uri": "https://localhost:8080/"
    },
    "id": "affiliated-trigger",
    "outputId": "ea1c01bc-8094-4e23-de10-96227cc57b24"
   },
   "outputs": [],
   "source": [
    "dfs[3].nunique()"
   ]
  },
  {
   "cell_type": "code",
   "execution_count": null,
   "id": "danish-faith",
   "metadata": {
    "colab": {
     "base_uri": "https://localhost:8080/"
    },
    "id": "danish-faith",
    "outputId": "f90c5176-0737-475f-997b-0e8749429e3c"
   },
   "outputs": [],
   "source": [
    "dfs[0]['mileage'].unique()"
   ]
  },
  {
   "cell_type": "code",
   "execution_count": null,
   "id": "golden-instrumentation",
   "metadata": {
    "colab": {
     "base_uri": "https://localhost:8080/"
    },
    "id": "golden-instrumentation",
    "outputId": "63ac848b-4945-4f6b-9c0d-3719762a1e29"
   },
   "outputs": [],
   "source": [
    "dfs[1]['mileage'].unique()"
   ]
  },
  {
   "cell_type": "code",
   "execution_count": null,
   "id": "forced-adapter",
   "metadata": {
    "id": "forced-adapter"
   },
   "outputs": [],
   "source": [
    "import seaborn as sns\n",
    "import matplotlib.pyplot as plt"
   ]
  },
  {
   "cell_type": "code",
   "execution_count": null,
   "id": "occupied-monitor",
   "metadata": {
    "id": "occupied-monitor"
   },
   "outputs": [],
   "source": [
    "corrm1 = dfs[0].corr()\n",
    "corrm2 = dfs[1].corr()"
   ]
  },
  {
   "cell_type": "code",
   "execution_count": null,
   "id": "inside-joint",
   "metadata": {
    "colab": {
     "base_uri": "https://localhost:8080/",
     "height": 1000
    },
    "id": "inside-joint",
    "outputId": "a2589a13-2b64-4237-9c8e-812925e207df"
   },
   "outputs": [],
   "source": [
    "fig, heat = plt.subplots(figsize = (26,22))\n",
    "sns.heatmap(corrm1, xticklabels=corrm1.columns, yticklabels=corrm1.columns, annot=True, fmt= ',.2f')"
   ]
  },
  {
   "cell_type": "code",
   "execution_count": null,
   "id": "incident-creek",
   "metadata": {
    "colab": {
     "base_uri": "https://localhost:8080/",
     "height": 1000
    },
    "id": "incident-creek",
    "outputId": "11473f5c-64e4-4f0d-b5c6-a616c2dbc775"
   },
   "outputs": [],
   "source": [
    "fig, heat = plt.subplots(figsize = (26,22))\n",
    "sns.heatmap(corrm2,xticklabels = corrm2.columns,yticklabels = corrm2.columns, annot=True, fmt= ',.2f' )"
   ]
  },
  {
   "cell_type": "code",
   "execution_count": null,
   "id": "artistic-sheriff",
   "metadata": {
    "colab": {
     "base_uri": "https://localhost:8080/",
     "height": 35
    },
    "id": "artistic-sheriff",
    "outputId": "be51dbe9-5d75-4e6f-8c63-c032334dfc24"
   },
   "outputs": [],
   "source": [
    "dfs[0].name"
   ]
  },
  {
   "cell_type": "code",
   "execution_count": null,
   "id": "professional-cement",
   "metadata": {
    "colab": {
     "base_uri": "https://localhost:8080/",
     "height": 35
    },
    "id": "professional-cement",
    "outputId": "5b11e19f-9a9d-47a6-c194-c10372e791cd"
   },
   "outputs": [],
   "source": [
    "dfs[1].name\n"
   ]
  }
 ],
 "metadata": {
  "colab": {
   "name": "1-data-exploration.ipynb",
   "provenance": []
  },
  "kernelspec": {
   "display_name": "Python 3 (ipykernel)",
   "language": "python",
   "name": "python3"
  },
  "language_info": {
   "codemirror_mode": {
    "name": "ipython",
    "version": 3
   },
   "file_extension": ".py",
   "mimetype": "text/x-python",
   "name": "python",
   "nbconvert_exporter": "python",
   "pygments_lexer": "ipython3",
   "version": "3.9.7"
  }
 },
 "nbformat": 4,
 "nbformat_minor": 5
}
