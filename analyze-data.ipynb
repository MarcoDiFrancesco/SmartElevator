{
 "cells": [
  {
   "cell_type": "code",
   "execution_count": null,
   "metadata": {},
   "outputs": [],
   "source": [
    "import json\n",
    "\n",
    "with open(\"28-09_31-10_alldata.json\", \"r\") as f:\n",
    "    data = json.load(f)"
   ]
  },
  {
   "cell_type": "code",
   "execution_count": null,
   "metadata": {},
   "outputs": [],
   "source": [
    "import pandas as pd\n",
    "pd.DataFrame(data)\n",
    "\n",
    "dfs = []\n",
    "for result in data[\"results\"]:\n",
    "    serie = result[\"series\"][0]\n",
    "    for serie in result[\"series\"]:\n",
    "        df = pd.DataFrame(serie[\"values\"], columns=serie[\"columns\"])\n",
    "        df.name = serie[\"name\"]\n",
    "        dfs.append(df)\n"
   ]
  },
  {
   "cell_type": "code",
   "execution_count": null,
   "metadata": {},
   "outputs": [],
   "source": [
    "print(dfs[0].keys())"
   ]
  },
  {
   "cell_type": "markdown",
   "metadata": {},
   "source": [
    "## Mesurements\n",
    "- RMS : root mean square\n",
    "- variance\n",
    "- skewness : normalised third central moment\n",
    "- kurtosis : normalised fourth central moment\n",
    "- normalised sixth central moment\n",
    "- PV : peak value"
   ]
  },
  {
   "cell_type": "code",
   "execution_count": null,
   "metadata": {},
   "outputs": [],
   "source": [
    "df = dfs[0]\n",
    "print(df.name)\n",
    "df"
   ]
  },
  {
   "cell_type": "code",
   "execution_count": null,
   "metadata": {},
   "outputs": [],
   "source": [
    "df[\"time\"] = pd.to_datetime(df[\"time\"], unit='ms')\n",
    "df = df.drop(['client', \"GW\", \"device\", \"mileage\"], axis=1)\n",
    "df"
   ]
  },
  {
   "cell_type": "code",
   "execution_count": null,
   "metadata": {},
   "outputs": [],
   "source": [
    "df.loc[(df[\"time\"] >= \"2021-10-09\") & (df[\"time\"] <= \"2021-10-12\"), \"label\"] = \"base\"\n",
    "df.loc[(df[\"time\"] >= \"2021-10-27 17:30\") & (df[\"time\"] <= \"2021-10-29 00:00\"), \"label\"] = \"cuscinetti\""
   ]
  },
  {
   "cell_type": "code",
   "execution_count": null,
   "metadata": {},
   "outputs": [],
   "source": [
    "df = df.set_index(\"time\")"
   ]
  },
  {
   "cell_type": "code",
   "execution_count": null,
   "metadata": {},
   "outputs": [],
   "source": [
    "dfb = df.loc[df[\"label\"] == \"base\"].resample('H').mean()\n",
    "dfc = df.loc[df[\"label\"] == \"cuscinetti\"].resample('H').mean()"
   ]
  },
  {
   "cell_type": "code",
   "execution_count": null,
   "metadata": {},
   "outputs": [],
   "source": [
    "dfb[\"label\"] = \"base\"\n",
    "dfc[\"label\"] = \"cuscinetti\"\n",
    "dfa = dfc.append(dfb)\n",
    "dfa"
   ]
  },
  {
   "cell_type": "code",
   "execution_count": null,
   "metadata": {},
   "outputs": [],
   "source": [
    "import seaborn as sns\n",
    "# dfcf = dfcf.reset_index()\n",
    "dfaf = dfa[['s_00', 's_01', 's_02',\n",
    "       's_03', 's_04', 's_05', 's_06', 's_07', 's_08', 's_09', 's_10', 's_11',\n",
    "       's_12', 's_13', 's_14', 's_15', 's_16', 's_17', 's_18', 's_19',\n",
    "    'sonic_custom', 'sonic_rmslog', 'temp', 'vib_x_acc',\n",
    "            'vib_x_kurt', 'vib_x_peak', 'vib_x_root',\n",
    "            'vib_x_vel', 'vib_y_acc',\n",
    "            'vib_y_kurt', 'vib_y_peak', 'vib_y_root', 'vib_y_vel', 'vib_z_acc',\n",
    "            'vib_z_kurt', 'vib_z_peak',\n",
    "            'vib_z_vel', \"label\"]]\n",
    "sns.pairplot(dfaf, kind=\"kde\", hue=\"label\", corner=True)"
   ]
  },
  {
   "cell_type": "code",
   "execution_count": null,
   "metadata": {},
   "outputs": [],
   "source": [
    "import umap\n",
    "reducer = umap.UMAP()\n",
    "embedding= reducer.fit_transform(dfa.drop(\"label\", axis=1))"
   ]
  },
  {
   "cell_type": "code",
   "execution_count": null,
   "metadata": {},
   "outputs": [],
   "source": [
    "from matplotlib import pyplot as plt\n",
    "c=[sns.color_palette()[x] for x in dfa.label.map({\"cuscinetti\":0, \"base\":1})]\n",
    "plt.figure(figsize=(8, 8), dpi=80)\n",
    "plt.scatter(embedding[:, 0], embedding[:, 1],c=c)"
   ]
  },
  {
   "cell_type": "code",
   "execution_count": null,
   "metadata": {},
   "outputs": [],
   "source": [
    "from sklearn.manifold import TSNE\n",
    "reducer = TSNE()\n",
    "embedding= reducer.fit_transform(dfa.drop(\"label\", axis=1))\n",
    "plt.figure(figsize=(8, 8), dpi=80)\n",
    "plt.scatter(embedding[:, 0], embedding[:, 1],c=c)"
   ]
  },
  {
   "cell_type": "code",
   "execution_count": null,
   "metadata": {},
   "outputs": [],
   "source": [
    "from sklearn.decomposition import PCA\n",
    "reducer = PCA()\n",
    "embedding= reducer.fit_transform(dfa.drop(\"label\", axis=1))\n",
    "plt.figure(figsize=(8, 8), dpi=80)\n",
    "plt.scatter(embedding[:, 0], embedding[:, 1],c=c)"
   ]
  },
  {
   "cell_type": "markdown",
   "metadata": {},
   "source": [
    "## Root mean square error\n",
    "\n",
    "Requires a prediction to have an error"
   ]
  },
  {
   "cell_type": "code",
   "execution_count": null,
   "metadata": {},
   "outputs": [],
   "source": [
    "# # df_loc = df.loc[df[\"time\"] == \"2021-10-27 17:32:32.494\"]\n",
    "# df_loc = df.loc[df[\"time\"] >= \"2021-10-31 12:05:52.937\"]\n",
    "# print(df_loc.mean())\n",
    "# df_loc"
   ]
  },
  {
   "cell_type": "code",
   "execution_count": null,
   "metadata": {},
   "outputs": [],
   "source": []
  },
  {
   "cell_type": "code",
   "execution_count": null,
   "metadata": {},
   "outputs": [],
   "source": []
  }
 ],
 "metadata": {
  "interpreter": {
   "hash": "d790a148e15a253f017f711abd442af19374b4ed938e56212be77aae3713b87a"
  },
  "kernelspec": {
   "display_name": "Python 3 (ipykernel)",
   "language": "python",
   "name": "python3"
  },
  "language_info": {
   "codemirror_mode": {
    "name": "ipython",
    "version": 3
   },
   "file_extension": ".py",
   "mimetype": "text/x-python",
   "name": "python",
   "nbconvert_exporter": "python",
   "pygments_lexer": "ipython3",
   "version": "3.9.7"
  }
 },
 "nbformat": 4,
 "nbformat_minor": 4
}
