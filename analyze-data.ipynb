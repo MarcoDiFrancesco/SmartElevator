{
 "cells": [
  {
   "cell_type": "markdown",
   "metadata": {},
   "source": [
    "## Read data"
   ]
  },
  {
   "cell_type": "code",
   "execution_count": null,
   "metadata": {},
   "outputs": [],
   "source": [
    "import json\n",
    "\n",
    "with open(\"28-09_07-11_alldata.json\", \"r\") as f:\n",
    "    data = json.load(f)"
   ]
  },
  {
   "cell_type": "code",
   "execution_count": null,
   "metadata": {},
   "outputs": [],
   "source": [
    "import pandas as pd\n",
    "pd.DataFrame(data)\n",
    "\n",
    "dfs = []\n",
    "for result in data[\"results\"]:\n",
    "    serie = result[\"series\"][0]\n",
    "    for serie in result[\"series\"]:\n",
    "        df = pd.DataFrame(serie[\"values\"], columns=serie[\"columns\"])\n",
    "        df.name = serie[\"name\"]\n",
    "        dfs.append(df)"
   ]
  },
  {
   "cell_type": "markdown",
   "metadata": {
    "tags": []
   },
   "source": [
    "## Data type\n",
    "- s_* -> microphone input\n",
    "- sonic (rmslog) -> low-frequency vibration\n",
    "- temp\n",
    "- vib -> vibration\n",
    "  - acc\n",
    "  - peak\n",
    "  - root: removed due to this weird shape  \n",
    "    ![](https://i.imgur.com/7nI0eCG.png)\n",
    "  - f1/f2/f3\n",
    "  - kurt\n",
    "  - vibra_custom: it's always 1, dropping\n",
    "  \n",
    "- ![image.png](https://i.imgur.com/E3wAX58.png)"
   ]
  },
  {
   "cell_type": "code",
   "execution_count": null,
   "metadata": {},
   "outputs": [],
   "source": [
    "df = dfs[0]\n",
    "df_temp = dfs[2]\n",
    "df_curr = dfs[3]\n",
    "df = df.drop([\n",
    "    'client', \"GW\", \"device\", \"mileage\", \"vibra_custom\",\n",
    "    'vib_x_root', 'vib_y_root', 'vib_z_root',\n",
    "], axis=1)\n",
    "df_temp = df_temp.drop(['client', \"GW\", \"device\", 'weekday'], axis=1)\n",
    "df_curr = df_curr.drop(['client', \"GW\", \"device\", 'weekday'], axis=1)"
   ]
  },
  {
   "cell_type": "markdown",
   "metadata": {},
   "source": [
    "## Join dataframes\n",
    "\n",
    "- df[0] -> Signature_Drift\n",
    "- df[1] -> Signature\n",
    "- df[2] -> Temperature\n",
    "- df[3] -> Current_Loop"
   ]
  },
  {
   "cell_type": "code",
   "execution_count": null,
   "metadata": {},
   "outputs": [],
   "source": [
    "df = df.set_index('time')\n",
    "df = df.rename(columns={'temp': 'temperature_surface'})\n",
    "df_temp = df_temp.set_index('time').rename(columns={\"value\": \"temperature_external\"})\n",
    "df_curr = df_curr.set_index('time').rename(columns={\"value\": \"current\"})\n",
    "\n",
    "df = df.join(df_temp)\n",
    "df = df.join(df_curr)\n",
    "\n",
    "df = df.reset_index()\n",
    "df[\"time\"] = pd.to_datetime(df[\"time\"], unit='ms')"
   ]
  },
  {
   "cell_type": "code",
   "execution_count": null,
   "metadata": {},
   "outputs": [],
   "source": [
    "df"
   ]
  },
  {
   "cell_type": "markdown",
   "metadata": {},
   "source": [
    "# Label and plot"
   ]
  },
  {
   "cell_type": "code",
   "execution_count": null,
   "metadata": {},
   "outputs": [],
   "source": [
    "df.loc[(df[\"time\"] >= \"2021-10-09 00:00\") & (df[\"time\"] <= \"2021-10-12 00:00\"), \"label\"] = \"working-engine\"\n",
    "df.loc[(df[\"time\"] >= \"2021-10-27 17:30\") & (df[\"time\"] <= \"2021-10-29 00:00\"), \"label\"] = \"bearings\"\n",
    "\n",
    "df.loc[(df[\"time\"] >= \"2021-11-03 16:00\") & (df[\"time\"] <= \"2021-11-05 11:00\"), \"label\"] = \"working-engine\" # Every 2 minutes (TOCHECK)\n",
    "df.loc[(df[\"time\"] >= \"2021-11-05 13:30\") & (df[\"time\"] <= \"2021-11-05 23:59\"), \"label\"] = \"bearings\" # Every 2 minutes (TOCHECK)"
   ]
  },
  {
   "cell_type": "code",
   "execution_count": null,
   "metadata": {},
   "outputs": [],
   "source": [
    "# Drops nan labels by default\n",
    "df = df.groupby([df.time.dt.date, df.time.dt.hour, 'label']).mean()\n",
    "df.index.names = [\"date\", \"hour\", 'label']"
   ]
  },
  {
   "cell_type": "code",
   "execution_count": null,
   "metadata": {},
   "outputs": [],
   "source": [
    "import seaborn as sns\n",
    "sns.pairplot(\n",
    "    df.reset_index()[[\n",
    "        # 's_00', 's_01', 's_02', 's_03', 's_04', 's_05', 's_06', 's_07', 's_08', 's_09', 's_10', 's_11', 's_12', 's_13', 's_14', 's_15', 's_16', 's_17', 's_18', 's_19',\n",
    "        'sonic_custom', 'sonic_rmslog',\n",
    "        'vib_x_acc', 'vib_x_kurt', 'vib_x_peak', 'vib_x_vel',\n",
    "        'vib_y_acc', 'vib_y_kurt', 'vib_y_peak', 'vib_y_vel',\n",
    "        'vib_z_acc', 'vib_z_kurt', 'vib_z_peak', 'vib_z_vel',\n",
    "        'temperature_surface', 'temperature_external', 'current',\n",
    "        'label'\n",
    "    ]],\n",
    "    kind=\"kde\",\n",
    "    hue=\"label\",\n",
    "    corner=True\n",
    ")"
   ]
  },
  {
   "cell_type": "markdown",
   "metadata": {},
   "source": [
    "## Dimentinality reduction"
   ]
  },
  {
   "cell_type": "code",
   "execution_count": null,
   "metadata": {},
   "outputs": [],
   "source": [
    "df = df.reset_index()\n",
    "df.columns"
   ]
  },
  {
   "cell_type": "code",
   "execution_count": null,
   "metadata": {},
   "outputs": [],
   "source": [
    "import umap\n",
    "from matplotlib import pyplot as plt\n",
    "\n",
    "df[\"label_int\"] = pd.factorize(df.label)[0]\n",
    "df_dr = df.drop([\"hour\", \"date\", \"label\", \"label_int\"], axis=1)\n",
    "reducer = umap.UMAP()\n",
    "embedding= reducer.fit_transform(df_dr)\n",
    "\n",
    "# c=[sns.color_palette()[x] for x in df.label.map({\"cuscinetti\":0, \"base\":1, \"cuscinetti2\":2, \"base2\":3})]\n",
    "print(df.label.unique())\n",
    "c=[sns.color_palette()[x] for x in df.label_int]\n",
    "plt.figure(figsize=(8, 8), dpi=80)\n",
    "plt.scatter(embedding[:, 0], embedding[:, 1], c = c)"
   ]
  },
  {
   "cell_type": "code",
   "execution_count": null,
   "metadata": {},
   "outputs": [],
   "source": [
    "from sklearn.manifold import TSNE\n",
    "reducer = TSNE()\n",
    "embedding= reducer.fit_transform(df_dr)\n",
    "plt.figure(figsize=(8, 8), dpi=80)\n",
    "plt.scatter(embedding[:, 0], embedding[:, 1],c=c)"
   ]
  },
  {
   "cell_type": "code",
   "execution_count": null,
   "metadata": {},
   "outputs": [],
   "source": [
    "from sklearn.decomposition import PCA\n",
    "reducer = PCA()\n",
    "embedding= reducer.fit_transform(df_dr)\n",
    "plt.figure(figsize=(8, 8), dpi=80)\n",
    "plt.scatter(embedding[:, 0], embedding[:, 1],c=c)"
   ]
  },
  {
   "cell_type": "markdown",
   "metadata": {},
   "source": [
    "## Models"
   ]
  },
  {
   "cell_type": "code",
   "execution_count": 16,
   "metadata": {},
   "outputs": [],
   "source": [
    "from sklearn.model_selection import train_test_split\n",
    "X_train, X_test, y_train, y_test = train_test_split(df_dr, df.label_int, test_size=0.20, random_state=42)"
   ]
  },
  {
   "cell_type": "code",
   "execution_count": 17,
   "metadata": {},
   "outputs": [
    {
     "name": "stdout",
     "output_type": "stream",
     "text": [
      "97%\n"
     ]
    }
   ],
   "source": [
    "from sklearn.neighbors import KNeighborsClassifier\n",
    "neigh = KNeighborsClassifier(n_neighbors=3)\n",
    "neigh.fit(X_train, y_train)\n",
    "pred = neigh.predict(X_test)\n",
    "acc = (pred == y_test).sum() / len(X_test)\n",
    "print(f\"{acc:.0%}\")"
   ]
  },
  {
   "cell_type": "code",
   "execution_count": 18,
   "metadata": {},
   "outputs": [
    {
     "name": "stdout",
     "output_type": "stream",
     "text": [
      "97%\n"
     ]
    }
   ],
   "source": [
    "from sklearn import svm\n",
    "clf = svm.SVC()\n",
    "clf.fit(X_train, y_train)\n",
    "clf.predict(X_test)\n",
    "acc = (pred == y_test).sum() / len(X_test)\n",
    "print(f\"{acc:.0%}\")"
   ]
  },
  {
   "cell_type": "markdown",
   "metadata": {},
   "source": [
    "## Root mean square error\n",
    "Requires a prediction to have an error"
   ]
  },
  {
   "cell_type": "code",
   "execution_count": null,
   "metadata": {},
   "outputs": [],
   "source": [
    "# # df_loc = df.loc[df[\"time\"] == \"2021-10-27 17:32:32.494\"]\n",
    "# df_loc = df.loc[df[\"time\"] >= \"2021-10-31 12:05:52.937\"]\n",
    "# print(df_loc.mean())\n",
    "# df_loc"
   ]
  },
  {
   "cell_type": "code",
   "execution_count": null,
   "metadata": {},
   "outputs": [],
   "source": []
  },
  {
   "cell_type": "code",
   "execution_count": null,
   "metadata": {},
   "outputs": [],
   "source": []
  },
  {
   "cell_type": "markdown",
   "metadata": {},
   "source": [
    "## Mesurements (For models)\n",
    "- RMS : root mean square\n",
    "- variance\n",
    "- skewness : normalised third central moment\n",
    "- kurtosis : normalised fourth central moment\n",
    "- normalised sixth central moment\n",
    "- PV : peak value"
   ]
  },
  {
   "cell_type": "code",
   "execution_count": null,
   "metadata": {},
   "outputs": [],
   "source": []
  }
 ],
 "metadata": {
  "interpreter": {
   "hash": "d790a148e15a253f017f711abd442af19374b4ed938e56212be77aae3713b87a"
  },
  "kernelspec": {
   "display_name": "Python 3 (ipykernel)",
   "language": "python",
   "name": "python3"
  },
  "language_info": {
   "codemirror_mode": {
    "name": "ipython",
    "version": 3
   },
   "file_extension": ".py",
   "mimetype": "text/x-python",
   "name": "python",
   "nbconvert_exporter": "python",
   "pygments_lexer": "ipython3",
   "version": "3.9.7"
  }
 },
 "nbformat": 4,
 "nbformat_minor": 4
}
